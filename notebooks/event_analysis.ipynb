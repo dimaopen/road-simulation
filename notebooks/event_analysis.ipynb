{
 "cells": [
  {
   "cell_type": "code",
   "execution_count": 1,
   "metadata": {
    "collapsed": true,
    "ExecuteTime": {
     "start_time": "2024-01-19T10:54:06.510951Z",
     "end_time": "2024-01-19T10:54:06.748219Z"
    }
   },
   "outputs": [],
   "source": [
    "import pandas as pd"
   ]
  },
  {
   "cell_type": "code",
   "execution_count": 18,
   "outputs": [
    {
     "data": {
      "text/plain": "              type          time       position person vehicle passengers  \\\n0  PersonGotToRoad  10806.253601   12338.745843   1314     NaN        NaN   \n1  PersonGotToRoad  10855.218995  379518.634848    987     NaN        NaN   \n\n   num_passengers  \n0            <NA>  \n1            <NA>  ",
      "text/html": "<div>\n<style scoped>\n    .dataframe tbody tr th:only-of-type {\n        vertical-align: middle;\n    }\n\n    .dataframe tbody tr th {\n        vertical-align: top;\n    }\n\n    .dataframe thead th {\n        text-align: right;\n    }\n</style>\n<table border=\"1\" class=\"dataframe\">\n  <thead>\n    <tr style=\"text-align: right;\">\n      <th></th>\n      <th>type</th>\n      <th>time</th>\n      <th>position</th>\n      <th>person</th>\n      <th>vehicle</th>\n      <th>passengers</th>\n      <th>num_passengers</th>\n    </tr>\n  </thead>\n  <tbody>\n    <tr>\n      <th>0</th>\n      <td>PersonGotToRoad</td>\n      <td>10806.253601</td>\n      <td>12338.745843</td>\n      <td>1314</td>\n      <td>NaN</td>\n      <td>NaN</td>\n      <td>&lt;NA&gt;</td>\n    </tr>\n    <tr>\n      <th>1</th>\n      <td>PersonGotToRoad</td>\n      <td>10855.218995</td>\n      <td>379518.634848</td>\n      <td>987</td>\n      <td>NaN</td>\n      <td>NaN</td>\n      <td>&lt;NA&gt;</td>\n    </tr>\n  </tbody>\n</table>\n</div>"
     },
     "metadata": {},
     "output_type": "display_data"
    },
    {
     "data": {
      "text/plain": "30278"
     },
     "metadata": {},
     "output_type": "display_data"
    },
    {
     "data": {
      "text/plain": "['PersonGotToRoad',\n 'VehicleTripStarted',\n 'PersonBoardedVehicle',\n 'VehicleRunOutOfGas',\n 'VehicleReachedDestination']"
     },
     "execution_count": 18,
     "metadata": {},
     "output_type": "execute_result"
    }
   ],
   "source": [
    "events_path = '../events.csv'\n",
    "columns = pd.read_csv(events_path, low_memory=False, nrows=20).columns\n",
    "schema = {}\n",
    "for col in columns:\n",
    "    schema[col] = str\n",
    "schema['time'] = float\n",
    "schema['position'] = float\n",
    "schema['num_passengers'] = pd.Int64Dtype()\n",
    "events = pd.read_csv(events_path, dtype=schema)\n",
    "display(events.head(2))\n",
    "display(len(events))\n",
    "list(events.type.unique())"
   ],
   "metadata": {
    "collapsed": false,
    "ExecuteTime": {
     "start_time": "2024-01-19T12:09:15.429715Z",
     "end_time": "2024-01-19T12:09:15.479213Z"
    }
   }
  },
  {
   "cell_type": "code",
   "execution_count": 25,
   "outputs": [],
   "source": [
    "events['riders'] = events.passengers.str.split(':')"
   ],
   "metadata": {
    "collapsed": false,
    "ExecuteTime": {
     "start_time": "2024-01-19T12:14:52.230957Z",
     "end_time": "2024-01-19T12:14:52.275079Z"
    }
   }
  },
  {
   "cell_type": "code",
   "execution_count": 19,
   "outputs": [
    {
     "data": {
      "text/plain": "                     type          time      position person vehicle  \\\n61        PersonGotToRoad  12581.391073  11618.337625    647     NaN   \n428  PersonBoardedVehicle  14830.819771  11618.337625    647    1599   \n\n    passengers  num_passengers  \n61         NaN            <NA>  \n428        NaN               0  ",
      "text/html": "<div>\n<style scoped>\n    .dataframe tbody tr th:only-of-type {\n        vertical-align: middle;\n    }\n\n    .dataframe tbody tr th {\n        vertical-align: top;\n    }\n\n    .dataframe thead th {\n        text-align: right;\n    }\n</style>\n<table border=\"1\" class=\"dataframe\">\n  <thead>\n    <tr style=\"text-align: right;\">\n      <th></th>\n      <th>type</th>\n      <th>time</th>\n      <th>position</th>\n      <th>person</th>\n      <th>vehicle</th>\n      <th>passengers</th>\n      <th>num_passengers</th>\n    </tr>\n  </thead>\n  <tbody>\n    <tr>\n      <th>61</th>\n      <td>PersonGotToRoad</td>\n      <td>12581.391073</td>\n      <td>11618.337625</td>\n      <td>647</td>\n      <td>NaN</td>\n      <td>NaN</td>\n      <td>&lt;NA&gt;</td>\n    </tr>\n    <tr>\n      <th>428</th>\n      <td>PersonBoardedVehicle</td>\n      <td>14830.819771</td>\n      <td>11618.337625</td>\n      <td>647</td>\n      <td>1599</td>\n      <td>NaN</td>\n      <td>0</td>\n    </tr>\n  </tbody>\n</table>\n</div>"
     },
     "execution_count": 19,
     "metadata": {},
     "output_type": "execute_result"
    }
   ],
   "source": [
    "events[(events.person == '647')]"
   ],
   "metadata": {
    "collapsed": false,
    "ExecuteTime": {
     "start_time": "2024-01-19T12:09:23.123647Z",
     "end_time": "2024-01-19T12:09:23.129413Z"
    }
   }
  }
 ],
 "metadata": {
  "kernelspec": {
   "display_name": "Python 3",
   "language": "python",
   "name": "python3"
  },
  "language_info": {
   "codemirror_mode": {
    "name": "ipython",
    "version": 2
   },
   "file_extension": ".py",
   "mimetype": "text/x-python",
   "name": "python",
   "nbconvert_exporter": "python",
   "pygments_lexer": "ipython2",
   "version": "2.7.6"
  }
 },
 "nbformat": 4,
 "nbformat_minor": 0
}
